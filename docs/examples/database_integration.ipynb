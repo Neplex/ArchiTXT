{
  "cells": [
    {
      "cell_type": "markdown",
      "id": "a3b3d34c2a7022a0",
      "metadata": {},
      "source": [
        "Integrating multiple databases\n",
        "==============================\n",
        "\n",
        "In this example, we use ArchiTXT to integrate two databases (Northwind and Chinook)."
      ]
    },
    {
      "metadata": {
        "tags": [
          "remove-cell"
        ]
      },
      "cell_type": "code",
      "source": [
        "import itables\n",
        "\n",
        "itables.init_notebook_mode(connected=True)"
      ],
      "id": "8c3fee50da238ecb",
      "outputs": [],
      "execution_count": null
    },
    {
      "cell_type": "markdown",
      "id": "ae42254c5e7cb769",
      "metadata": {},
      "source": [
        "## Load databases\n",
        "\n",
        "### Northwind\n",
        "\n",
        "The Northwind sample database was provided with Microsoft Access as a tutorial schema for managing small business customers, orders, inventory, purchasing, suppliers, shipping, and employees.\n",
        "Northwind is an excellent tutorial schema for a small-business ERP, with customers, orders, inventory, purchasing, suppliers, shipping, employees, and single-entry accounting.\n",
        "\n",
        "\n",
        "```{mermaid}\n",
        "    ---\n",
        "    config:\n",
        "        theme: neutral\n",
        "    ---\n",
        "    erDiagram\n",
        "        CustomerCustomerDemo }o--|| CustomerDemographics : \"has\"\n",
        "        CustomerCustomerDemo }o--|| Customers : \"relates to\"\n",
        "\n",
        "        Employees }|--o| Employees : \"reports to\"\n",
        "        Employees ||--o{ EmployeeTerritories : \"assigned to\"\n",
        "\n",
        "        Orders }o--|| Shippers : \"ships via\"\n",
        "        Orders }o--|| Customers : \"placed by\"\n",
        "        Orders }o--|| Employees : \"sold by\"\n",
        "\n",
        "        \"Order Details\" }o--|| Orders : \"contain\"\n",
        "        \"Order Details\" }o--|| Products : \"refer to\"\n",
        "\n",
        "        Products }o--|| Categories : \"categorized in\"\n",
        "        Products }o--|| Suppliers : \"supplied by\"\n",
        "\n",
        "        Territories }|--|| Regions : \"located in\"\n",
        "        EmployeeTerritories }o--|| Territories : \"assigned to\"\n",
        "\n",
        "        Categories {\n",
        "            int     CategoryID      PK\n",
        "            string  CategoryName\n",
        "            string  Description\n",
        "            blob    Picture\n",
        "        }\n",
        "\n",
        "        CustomerCustomerDemo {\n",
        "            string  CustomerID       PK, FK\n",
        "            string  CustomerTypeID   PK, FK\n",
        "        }\n",
        "\n",
        "        CustomerDemographics {\n",
        "            string  CustomerTypeID   PK\n",
        "            string  CustomerDesc\n",
        "        }\n",
        "\n",
        "        Customers {\n",
        "            string  CustomerID       PK\n",
        "            string  CompanyName\n",
        "            string  ContactName\n",
        "            string  ContactTitle\n",
        "            string  Address\n",
        "            string  City\n",
        "            string  Region\n",
        "            string  PostalCode\n",
        "            string  Country\n",
        "            string  Phone\n",
        "            string  Fax\n",
        "        }\n",
        "\n",
        "        Employees {\n",
        "            int     EmployeeID       PK\n",
        "            string  LastName\n",
        "            string  FirstName\n",
        "            string  Title\n",
        "            string  TitleOfCourtesy\n",
        "            date    BirthDate\n",
        "            date    HireDate\n",
        "            string  Address\n",
        "            string  City\n",
        "            string  Region\n",
        "            string  PostalCode\n",
        "            string  Country\n",
        "            string  HomePhone\n",
        "            string  Extension\n",
        "            blob    Photo\n",
        "            string  Notes\n",
        "            int     ReportsTo        FK\n",
        "            string  PhotoPath\n",
        "        }\n",
        "\n",
        "        EmployeeTerritories {\n",
        "            int     EmployeeID       PK, FK\n",
        "            int     TerritoryID      PK, FK\n",
        "        }\n",
        "\n",
        "        \"Order Details\" {\n",
        "            int     OrderID          PK, FK\n",
        "            int     ProductID        PK, FK\n",
        "            float   UnitPrice\n",
        "            int     Quantity\n",
        "            real    Discount\n",
        "        }\n",
        "\n",
        "        Orders {\n",
        "            int     OrderID          PK\n",
        "            string  CustomerID       FK\n",
        "            int     EmployeeID       FK\n",
        "            datetime OrderDate\n",
        "            datetime RequiredDate\n",
        "            datetime ShippedDate\n",
        "            int     ShipVia          FK\n",
        "            numeric Freight\n",
        "            string  ShipName\n",
        "            string  ShipAddress\n",
        "            string  ShipCity\n",
        "            string  ShipRegion\n",
        "            string  ShipPostalCode\n",
        "            string  ShipCountry\n",
        "        }\n",
        "\n",
        "        Products {\n",
        "            int     ProductID        PK\n",
        "            string  ProductName\n",
        "            int     SupplierID       FK\n",
        "            int     CategoryID       FK\n",
        "            int     QuantityPerUnit\n",
        "            float   UnitPrice\n",
        "            int     UnitsInStock\n",
        "            int     UnitsOnOrder\n",
        "            int     ReorderLevel\n",
        "            string  Discontinued\n",
        "        }\n",
        "\n",
        "        Regions {\n",
        "            int     RegionID         PK\n",
        "            string  RegionDescription\n",
        "        }\n",
        "\n",
        "        Shippers {\n",
        "            int     ShipperID        PK\n",
        "            string  CompanyName\n",
        "            string  Phone\n",
        "        }\n",
        "\n",
        "        Suppliers {\n",
        "            int     SupplierID       PK\n",
        "            string  CompanyName\n",
        "            string  ContactName\n",
        "            string  ContactTitle\n",
        "            string  Address\n",
        "            string  City\n",
        "            string  Region\n",
        "            string  PostalCode\n",
        "            string  Country\n",
        "            string  Phone\n",
        "            string  Fax\n",
        "            string  HomePage\n",
        "        }\n",
        "\n",
        "        Territories {\n",
        "            string  TerritoryID      PK\n",
        "            string  TerritoryDescription\n",
        "            int     RegionID         FK\n",
        "        }\n",
        "```"
      ]
    },
    {
      "cell_type": "code",
      "id": "1ec985d563456b1",
      "metadata": {
        "tags": [
          "remove-output",
          "hide-input"
        ]
      },
      "source": [
        "import urllib.request\n",
        "from pathlib import Path\n",
        "\n",
        "db_file = Path('northwind.db')\n",
        "\n",
        "if not db_file.exists():\n",
        "    urllib.request.urlretrieve(\n",
        "        'https://github.com/jpwhite3/northwind-SQLite3/raw/refs/heads/main/dist/northwind.db',\n",
        "        filename=db_file,\n",
        "    )"
      ],
      "outputs": [],
      "execution_count": null
    },
    {
      "cell_type": "code",
      "id": "249a7a6989aa4f7c",
      "metadata": {
        "tags": []
      },
      "source": [
        "from architxt.database.loader import read_sql\n",
        "from sqlalchemy import create_engine\n",
        "\n",
        "with create_engine('sqlite:///northwind.db').connect() as connection:\n",
        "    northwind_forest = list(read_sql(connection, sample=20))"
      ],
      "outputs": [],
      "execution_count": null
    },
    {
      "cell_type": "markdown",
      "id": "52c91963702ca0d3",
      "metadata": {},
      "source": [
        "### Chinook\n",
        "\n",
        "The Chinook Sample Database is a fictional digital media store database used for learning and testing SQL queries.\n",
        "It is modeled after real-world online music stores like iTunes and includes data related to artists, albums, tracks, customers, invoices, employees, and genres.\n",
        "\n",
        "```{mermaid}\n",
        "    ---\n",
        "    config:\n",
        "        theme: neutral\n",
        "    ---\n",
        "    erDiagram\n",
        "        Artist ||--|{ Album : \"hasAuthor\"\n",
        "\n",
        "        Employee ||--|{ Customer : \"supports\"\n",
        "        Employee ||--|{ Employee : \"reportsTo\"\n",
        "\n",
        "        Customer ||--|{ Invoice : \"makeOrder\"\n",
        "        Invoice ||--|{ InvoiceLine : \"contains\"\n",
        "        Track ||--|{ InvoiceLine : \"soldIn\"\n",
        "\n",
        "        Playlist ||--|{ PlaylistTrack : \"includes\"\n",
        "        Track ||--|{ PlaylistTrack : \"appearsIn\"\n",
        "\n",
        "        Album ||--|{ Track : \"has\"\n",
        "        Genre ||--|{ Track : \"hasGenre\"\n",
        "        MediaType ||--|{ Track : \"encodedAs\"\n",
        "\n",
        "        Album {\n",
        "            int     AlbumId   PK\n",
        "            string  Title\n",
        "            int     ArtistId  FK\n",
        "        }\n",
        "        Artist {\n",
        "            int     ArtistId  PK\n",
        "            string  Name\n",
        "        }\n",
        "        Customer {\n",
        "            int     CustomerId    PK\n",
        "            string  FirstName\n",
        "            string  LastName\n",
        "            string  Company\n",
        "            string  Address\n",
        "            string  City\n",
        "            string  State\n",
        "            string  Country\n",
        "            string  PostalCode\n",
        "            string  Phone\n",
        "            string  Fax\n",
        "            string  Email\n",
        "            int     SupportRepId  FK\n",
        "        }\n",
        "        Employee {\n",
        "            int     EmployeeId  PK\n",
        "            string  LastName\n",
        "            string  FirstName\n",
        "            string  Title\n",
        "            int     ReportsTo   FK\n",
        "            date    BirthDate\n",
        "            date    HireDate\n",
        "            string  Address\n",
        "            string  City\n",
        "            string  State\n",
        "            string  Country\n",
        "            string  PostalCode\n",
        "            string  Phone\n",
        "            string  Fax\n",
        "            string  Email\n",
        "        }\n",
        "        Genre {\n",
        "            int     GenreId     PK\n",
        "            string  Name\n",
        "        }\n",
        "        Invoice {\n",
        "            int     InvoiceId           PK\n",
        "            int     CustomerId          FK\n",
        "            date    InvoiceDate\n",
        "            string  BillingAddress\n",
        "            string  BillingCity\n",
        "            string  BillingState\n",
        "            string  BillingCountry\n",
        "            string  BillingPostalCode\n",
        "            float   Total\n",
        "        }\n",
        "        InvoiceLine {\n",
        "            int     InvoiceLineId   PK\n",
        "            int     InvoiceId       FK\n",
        "            int     TrackId         FK\n",
        "            float   UnitPrice\n",
        "            int     Quantity\n",
        "        }\n",
        "        MediaType {\n",
        "            int     MediaTypeId PK\n",
        "            string  Name\n",
        "        }\n",
        "        Playlist {\n",
        "            int     PlaylistId  PK\n",
        "            string  Name\n",
        "        }\n",
        "        PlaylistTrack {\n",
        "            int PlaylistId  PK, FK\n",
        "            int TrackId     PK, FK\n",
        "        }\n",
        "        Track {\n",
        "            int     TrackId     PK\n",
        "            string  Name\n",
        "            int     AlbumId     FK\n",
        "            int     MediaTypeId FK\n",
        "            int     GenreId     FK\n",
        "            string  Composer\n",
        "            int     Milliseconds\n",
        "            int     Bytes\n",
        "            float   UnitPrice\n",
        "        }\n",
        "```"
      ]
    },
    {
      "cell_type": "code",
      "id": "c1cd01acd3ba9469",
      "metadata": {
        "tags": [
          "remove-output",
          "hide-input"
        ]
      },
      "source": [
        "db_file = Path('chinook.db')\n",
        "\n",
        "if not db_file.exists():\n",
        "    urllib.request.urlretrieve(\n",
        "        'https://github.com/lerocha/chinook-database/raw/master/ChinookDatabase/DataSources/Chinook_Sqlite.sqlite',\n",
        "        filename=db_file,\n",
        "    )"
      ],
      "outputs": [],
      "execution_count": null
    },
    {
      "cell_type": "code",
      "id": "93371f447c6dc059",
      "metadata": {
        "tags": []
      },
      "source": [
        "with create_engine('sqlite:///chinook.db').connect() as connection:\n",
        "    chinook_forest = list(read_sql(connection, sample=10))"
      ],
      "outputs": [],
      "execution_count": null
    },
    {
      "cell_type": "markdown",
      "id": "3dc97f0842de6243",
      "metadata": {},
      "source": [
        "## Integration\n",
        "\n",
        "We combine the two forests representing the databases and inspect the schema."
      ]
    },
    {
      "cell_type": "code",
      "id": "502149fb71fd1116",
      "metadata": {},
      "source": [
        "from architxt.schema import Schema\n",
        "\n",
        "forest = northwind_forest + chinook_forest\n",
        "schema = Schema.from_forest(forest)\n",
        "print(schema.as_cfg())"
      ],
      "outputs": [],
      "execution_count": null
    },
    {
      "cell_type": "markdown",
      "id": "cfc2c287bd1e1d05",
      "metadata": {},
      "source": [
        "### Explore the schema\n",
        "\n",
        "The schema is complex, and some groups like `Orders` and `Invoice` may be merged to simplify the instance.\n",
        "We first need to rename semantically equivalent properties to make them uniform across both databases.\n",
        "\n",
        "We'll use a mapping dictionary to rename entities and standardize them."
      ]
    },
    {
      "cell_type": "code",
      "id": "fac31549b811af5a",
      "metadata": {},
      "source": [
        "from architxt.tree import NodeLabel, NodeType, has_type\n",
        "\n",
        "entity_mapping = {\n",
        "    # Track / Product\n",
        "    'TrackId': 'ProductID',\n",
        "    # Invoice / Order\n",
        "    'InvoiceId': 'OrderID',\n",
        "    'InvoiceDate': 'OrderDate',\n",
        "    'ShipAddress': 'BillingAddress',\n",
        "    'ShipCity': 'BillingCity',\n",
        "    'ShipCountry': 'BillingCountry',\n",
        "    'ShipPostalCode': 'BillingPostalCode',\n",
        "    'BillingState': 'State',\n",
        "    'ShipRegion': 'Region',\n",
        "    # Employees / Customers\n",
        "    'CompanyName': 'Company',\n",
        "    'HomePhone': 'Phone',\n",
        "    'CustomerId': 'CustomerID',\n",
        "    'EmployeeId': 'EmployeeID',\n",
        "}\n",
        "\n",
        "for tree in forest:\n",
        "    for subtree in tree.subtrees():\n",
        "        if has_type(subtree, NodeType.ENT) and subtree.label.name in entity_mapping:\n",
        "            subtree.label = NodeLabel(NodeType.ENT, entity_mapping[subtree.label.name])\n",
        "\n",
        "schema = Schema.from_forest(forest)\n",
        "print(schema.as_cfg())"
      ],
      "outputs": [],
      "execution_count": null
    },
    {
      "cell_type": "markdown",
      "id": "6aaf1ffcbd4b0826",
      "metadata": {},
      "source": [
        "Now that we've standardized the property names, we can visualize the initial distribution of groups in the schema.\n",
        "\n",
        "To do this, let's count how many instances of each group exist in the schema."
      ]
    },
    {
      "cell_type": "code",
      "id": "8fe1dc21d882d167",
      "metadata": {
        "tags": [
          "hide-input"
        ]
      },
      "source": [
        "from collections import Counter\n",
        "\n",
        "import pandas as pd\n",
        "from architxt.tree import NodeType, has_type\n",
        "\n",
        "group_counter = Counter(\n",
        "    subtree.label.name for tree in forest for subtree in tree.subtrees() if has_type(subtree, NodeType.GROUP)\n",
        ")\n",
        "\n",
        "df_initial = pd.DataFrame.from_dict(group_counter, orient='index', columns=['Count'])\n",
        "df_initial = df_initial.sort_values('Count', ascending=False)\n",
        "df_initial.loc['Total'] = group_counter.total()\n",
        "df_initial.index.name = 'Group'\n",
        "\n",
        "df_initial"
      ],
      "outputs": [],
      "execution_count": null
    },
    {
      "cell_type": "markdown",
      "id": "a45466e57d3544f3",
      "metadata": {},
      "source": "Next, we can use ArchiTXT's tree clustering algorithm to identify which groups can be merged."
    },
    {
      "cell_type": "code",
      "id": "91325acdb0b0e3b7",
      "metadata": {
        "tags": [
          "remove-output"
        ]
      },
      "source": [
        "from architxt.similarity import equiv_cluster\n",
        "\n",
        "clusters = equiv_cluster(forest, tau=0.85)"
      ],
      "outputs": [],
      "execution_count": null
    },
    {
      "cell_type": "markdown",
      "id": "4cb7f2ff13527b96",
      "metadata": {},
      "source": "Let's visualize the clustering result in a new table.\n"
    },
    {
      "cell_type": "code",
      "id": "2357b4a4fa06afd4",
      "metadata": {
        "tags": [
          "hide-input"
        ]
      },
      "source": [
        "new_groups = {\n",
        "    str(klass[0].label): Counter(subtree.label.name for subtree in klass if has_type(subtree, NodeType.GROUP))\n",
        "    for klass in clusters\n",
        "}\n",
        "\n",
        "df_new = pd.DataFrame.from_dict(new_groups, orient='index').fillna(0).astype(int)\n",
        "df_new['Total'] = df_new.sum(axis=1)\n",
        "df_new = df_new.sort_values('Total', ascending=False)\n",
        "df_new.index.name = 'Class'\n",
        "\n",
        "df_new"
      ],
      "outputs": [],
      "execution_count": null
    },
    {
      "cell_type": "markdown",
      "id": "36389da741cd0cdd",
      "metadata": {},
      "source": "Let's visualize the clustering result as a bar chart to better understand the distribution of groups across equivalent classes."
    },
    {
      "cell_type": "code",
      "id": "19cfab8606261293",
      "metadata": {
        "tags": [
          "hide-input"
        ]
      },
      "source": [
        "import plotly.express as px\n",
        "\n",
        "fig = px.bar(\n",
        "    df_new.drop(columns=['Total']),\n",
        "    labels={'value': 'Count', 'variable': 'Group', 'index': 'Class'},\n",
        "    title='Groups repartition per Equivalent Class',\n",
        ")\n",
        "\n",
        "fig.update_layout(barmode='stack', xaxis_title='Equivalent Class', yaxis_title='Count', xaxis_tickangle=-45)"
      ],
      "outputs": [],
      "execution_count": null
    },
    {
      "cell_type": "markdown",
      "id": "d29b22652be7afb0",
      "metadata": {},
      "source": [
        "### Simplification\n",
        "\n",
        "Now that we saw potential groupings, we can use ArchiTXT to perform simplification and rewrite the forest into a condensed version."
      ]
    },
    {
      "metadata": {
        "tags": [
          "remove-output"
        ]
      },
      "cell_type": "code",
      "source": [
        "from architxt.simplification.tree_rewriting import rewrite\n",
        "\n",
        "rewrite(forest, tau=0.85, min_support=100, epoch=10, edit_ops=[])"
      ],
      "id": "e029b3ba8e554a55",
      "outputs": [],
      "execution_count": null
    },
    {
      "metadata": {},
      "cell_type": "code",
      "source": [
        "new_schema = Schema.from_forest(forest)\n",
        "print(new_schema.as_cfg())"
      ],
      "id": "5c8af8393470fc20",
      "outputs": [],
      "execution_count": null
    },
    {
      "metadata": {},
      "cell_type": "code",
      "source": [
        "all_datasets = new_schema.extract_datasets(forest)\n",
        "group, dataset = max(all_datasets.items(), key=lambda x: len(x[1]))\n",
        "\n",
        "print(f'Group: {group}')\n",
        "\n",
        "dataset"
      ],
      "id": "8c73499db3524ef5",
      "outputs": [],
      "execution_count": null
    }
  ],
  "metadata": {
    "kernelspec": {
      "display_name": "Python 3 (ipykernel)",
      "language": "python",
      "name": "python3"
    }
  },
  "nbformat": 4,
  "nbformat_minor": 5
}
