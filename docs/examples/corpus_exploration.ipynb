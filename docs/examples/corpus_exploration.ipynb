{
  "cells": [
    {
      "cell_type": "markdown",
      "id": "b02239d8fef12638",
      "metadata": {},
      "source": [
        "Exploring a Textual Corpus with ArchiTXT\n",
        "========================================\n",
        "\n",
        "This tutorial provides a **step-by-step guide** on how to use **ArchiTXT** to efficiently process and analyze textual corpora.\n",
        "\n",
        "ArchiTXT allows loading a corpus as a set of syntax trees, where each tree is enriched by incorporating named entities.\n",
        "These enriched trees form a **forest**, which can then be automatically structured into a valid **database instance** for further analysis.\n",
        "\n",
        "By following this tutorial, you'll learn how to:\n",
        "- Load a corpus\n",
        "- Parse textual data with **Berkeley Neural Parser (Benepar)**\n",
        "- Extract structured data using **ArchiTXT**"
      ]
    },
    {
      "cell_type": "code",
      "id": "31802aa658488f0f",
      "metadata": {
        "tags": [
          "remove-input"
        ]
      },
      "source": [
        "import itables\n",
        "\n",
        "itables.init_notebook_mode(connected=True)"
      ],
      "outputs": [],
      "execution_count": null
    },
    {
      "cell_type": "markdown",
      "id": "115e771cc1456e16",
      "metadata": {},
      "source": [
        "## Downloading the MACCROBAT Corpus\n",
        "The **MACCROBAT** corpus is a collection of **200 annotated medical documents**, specifically **clinical case reports**, extracted from **PubMed Central**.\n",
        "The annotations focus on key medical concepts such as **diseases, treatments, medications, and symptoms**, making it a valuable resource for biomedical text analysis.\n",
        "\n",
        "The **MACCROBAT** corpus is available for download at [Figshare](https://figshare.com/articles/dataset/MACCROBAT2018/9764942).\n",
        "\n",
        "Let's download the corpora."
      ]
    },
    {
      "cell_type": "code",
      "id": "9bb17adb4e73b73",
      "metadata": {},
      "source": [
        "import io\n",
        "import urllib.request\n",
        "import zipfile\n",
        "\n",
        "with urllib.request.urlopen('https://figshare.com/ndownloader/articles/9764942/versions/2') as response:\n",
        "    archive_file = io.BytesIO(response.read())\n",
        "\n",
        "with zipfile.ZipFile(archive_file) as archive:\n",
        "    archive.extract('MACCROBAT2020.zip')"
      ],
      "outputs": [],
      "execution_count": null
    },
    {
      "cell_type": "markdown",
      "id": "f53f334f1db883be",
      "metadata": {},
      "source": [
        "## Installing and Configuring NLP Models\n",
        "\n",
        "ArchiTXT can parse the sentences using either **Benepar** with SpaCy or a **CoreNLP** server.\n",
        "In this tutorial, we will use the **SpaCy parser** with the default model, but you can use any models like one from **SciSpaCy**, a collection of models designed for biomedical text processing by **AllenAI**.\n",
        "\n",
        "To download the SciSpaCy model, do:"
      ]
    },
    {
      "cell_type": "code",
      "id": "f3f45627cd6a6589",
      "metadata": {
        "tags": [
          "remove-output"
        ]
      },
      "source": [
        "!spacy download en_core_web_sm"
      ],
      "outputs": [],
      "execution_count": null
    },
    {
      "cell_type": "markdown",
      "id": "34644a1af9adac4d",
      "metadata": {},
      "source": "We also need to download the Benepar model for English"
    },
    {
      "cell_type": "code",
      "id": "97d57983410cd61",
      "metadata": {
        "tags": [
          "remove-output"
        ]
      },
      "source": [
        "import benepar\n",
        "\n",
        "benepar.download('benepar_en3')"
      ],
      "outputs": [],
      "execution_count": null
    },
    {
      "cell_type": "markdown",
      "id": "964d0fa93b704e92",
      "metadata": {},
      "source": [
        "## Parsing the Corpus with ArchiTXT\n",
        "\n",
        "Before processing the corpus, we need to configure the **BeneparParser**, specifying which SpaCy model to use for each language."
      ]
    },
    {
      "cell_type": "code",
      "id": "e14ee4fbe193af94",
      "metadata": {
        "tags": [
          "remove-output"
        ]
      },
      "source": [
        "import warnings\n",
        "\n",
        "from architxt.nlp.parser.benepar import BeneparParser\n",
        "\n",
        "# Initialize the parser\n",
        "parser = BeneparParser(\n",
        "    spacy_models={\n",
        "        'English': 'en_core_web_sm',\n",
        "    }\n",
        ")\n",
        "\n",
        "# Suppress warnings for unsupported annotations\n",
        "warnings.filterwarnings(\"ignore\")"
      ],
      "outputs": [],
      "execution_count": null
    },
    {
      "cell_type": "markdown",
      "id": "d5e84953743102d3",
      "metadata": {},
      "source": "To ensure everything is working correctly, we first parse a small set of sentences from the corpus."
    },
    {
      "metadata": {},
      "cell_type": "code",
      "source": [
        "from architxt.nlp import raw_load_corpus\n",
        "\n",
        "forest = await raw_load_corpus(\n",
        "    ['MACCROBAT2020.zip'],\n",
        "    ['English'],\n",
        "    parser=parser,\n",
        "    sample=5,\n",
        "    cache=False,\n",
        ")"
      ],
      "id": "3ac5e9ab2a0e7b62",
      "outputs": [],
      "execution_count": null
    },
    {
      "metadata": {},
      "cell_type": "markdown",
      "source": "We can look at our enriched tree using the `pretty_print` method.",
      "id": "6610010467fdb0ce"
    },
    {
      "metadata": {},
      "cell_type": "code",
      "source": [
        "# Look at the highest tree\n",
        "max(forest, key=lambda tree: tree.height).pretty_print()"
      ],
      "id": "2d29179c6202aff5",
      "outputs": [],
      "execution_count": null
    },
    {
      "cell_type": "markdown",
      "id": "19ef99b0c8448f3a",
      "metadata": {},
      "source": [
        "Named Entity Resolution (NER) helps to standardize the named entities and to build a database instance.\n",
        "To enable NER, we need to provide the knowledge base to use.\n",
        "For this tutorial, we will use the **UMLS (Unified Medical Language System)** resolver.\n",
        "\n",
        "Let's now parse more sentences from the corpora."
      ]
    },
    {
      "metadata": {},
      "cell_type": "code",
      "source": [
        "forest = await raw_load_corpus(\n",
        "    ['MACCROBAT2020.zip'],\n",
        "    ['English'],\n",
        "    parser=parser,\n",
        "    sample=400,\n",
        "    cache=False,\n",
        "    resolver_name='umls',\n",
        ")"
      ],
      "id": "b7436174ba496f5",
      "outputs": [],
      "execution_count": null
    },
    {
      "metadata": {},
      "cell_type": "code",
      "source": [
        "# Look at the highest tree\n",
        "max(forest, key=lambda tree: tree.height).pretty_print()"
      ],
      "id": "d6ca4d55f5ddec4a",
      "outputs": [],
      "execution_count": null
    },
    {
      "cell_type": "markdown",
      "id": "90088942bf499c9d",
      "metadata": {},
      "source": [
        " **ArchiTXT** can then automatically structure parsed text into a **database-friendly format**.\n",
        " Let's start with a simple rewrite!"
      ]
    },
    {
      "cell_type": "code",
      "id": "6eb636ebf75eba0d",
      "metadata": {
        "tags": [
          "remove-output"
        ]
      },
      "source": [
        "from copy import deepcopy\n",
        "\n",
        "from architxt.simplification.simple_rewrite import simple_rewrite\n",
        "\n",
        "forest_copy = deepcopy(forest)\n",
        "simple_rewrite(forest_copy)"
      ],
      "outputs": [],
      "execution_count": null
    },
    {
      "cell_type": "code",
      "id": "9f27bab9088de6ec",
      "metadata": {},
      "source": [
        "# Look at the highest tree\n",
        "max(forest_copy, key=lambda tree: tree.height).pretty_print()"
      ],
      "outputs": [],
      "execution_count": null
    },
    {
      "cell_type": "markdown",
      "id": "2097e213eedb2081",
      "metadata": {},
      "source": [
        "Now that we have a structured instance, we can extract its schema.\n",
        "The schema provides a **formal representation** of the extracted data."
      ]
    },
    {
      "cell_type": "code",
      "id": "d002e40e0ab4287d",
      "metadata": {},
      "source": [
        "from architxt.schema import Schema\n",
        "\n",
        "schema = Schema.from_forest(forest_copy, keep_unlabelled=False)\n",
        "print(schema.as_cfg())"
      ],
      "outputs": [],
      "execution_count": null
    },
    {
      "cell_type": "markdown",
      "id": "2ba1cc1cae9bcbf7",
      "metadata": {},
      "source": [
        "We've successfully built a basic database schema from our corpus, but there's significant potential for improvement.\n",
        "Let's explore how we can enhance it using the ArchiTXT simplification algorithm!"
      ]
    },
    {
      "metadata": {},
      "cell_type": "code",
      "source": [
        "from architxt.simplification.tree_rewriting import rewrite\n",
        "\n",
        "rewrite(forest, epoch=10, min_support=5, tau=0.6)"
      ],
      "id": "130878755df87067",
      "outputs": [],
      "execution_count": null
    },
    {
      "metadata": {},
      "cell_type": "code",
      "source": [
        "# Look at the highest tree\n",
        "max(forest, key=lambda tree: tree.height).pretty_print()"
      ],
      "id": "e1858be3938f3877",
      "outputs": [],
      "execution_count": null
    },
    {
      "cell_type": "markdown",
      "id": "4416adaa8b722e2f",
      "metadata": {},
      "source": "We now have a more granular structure. Let's take a closer look at the schema."
    },
    {
      "metadata": {},
      "cell_type": "code",
      "source": [
        "schema = Schema.from_forest(forest, keep_unlabelled=False)\n",
        "print(schema.as_cfg())"
      ],
      "id": "d5a443ba85dbeb0",
      "outputs": [],
      "execution_count": null
    },
    {
      "cell_type": "markdown",
      "id": "b87a797643c215d8",
      "metadata": {},
      "source": [
        "The schema is now much smaller, and the groups are more meaningful.\n",
        "\n",
        "But not all extracted trees provide valuable insights, so we could filter the structured instance to keep only the **valid trees** using `schema.extract_valid_trees(new_forest)`.\n",
        "Let's explore the different **semantic groups**.\n",
        "Groups represent common patterns across the corpus."
      ]
    },
    {
      "metadata": {},
      "cell_type": "code",
      "source": [
        "all_datasets = schema.extract_datasets(forest)\n",
        "group, dataset = max(all_datasets.items(), key=lambda x: len(x[1]))\n",
        "\n",
        "print(f'Group: {group}')\n",
        "\n",
        "dataset"
      ],
      "id": "fd5cbaae5c677d08",
      "outputs": [],
      "execution_count": null
    }
  ],
  "metadata": {
    "kernelspec": {
      "display_name": "Python 3",
      "language": "python",
      "name": "python3"
    },
    "language_info": {
      "codemirror_mode": {
        "name": "ipython",
        "version": 2
      },
      "file_extension": ".py",
      "mimetype": "text/x-python",
      "name": "python",
      "nbconvert_exporter": "python",
      "pygments_lexer": "ipython2",
      "version": "2.7.6"
    }
  },
  "nbformat": 4,
  "nbformat_minor": 5
}
