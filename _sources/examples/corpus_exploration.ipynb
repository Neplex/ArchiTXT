{
  "cells": [
    {
      "cell_type": "markdown",
      "id": "b02239d8fef12638",
      "metadata": {},
      "source": [
        "Exploring a Textual Corpus with ArchiTXT\n",
        "========================================\n",
        "\n",
        "This tutorial provides a **step-by-step guide** on how to use **ArchiTXT** to efficiently process and analyze textual corpora.\n",
        "\n",
        "ArchiTXT allows loading a corpus as a set of syntax trees, where each tree is enriched by incorporating named entities.\n",
        "These enriched trees form a **forest**, which can then be automatically structured into a valid **database instance** for further analysis.\n",
        "\n",
        "By following this tutorial, you'll learn how to:\n",
        "- Load a corpus\n",
        "- Parse textual data with **Berkeley Neural Parser (Benepar)**\n",
        "- Extract structured data using **ArchiTXT**"
      ]
    },
    {
      "cell_type": "code",
      "id": "31802aa658488f0f",
      "metadata": {
        "tags": [
          "remove-cell"
        ]
      },
      "source": [
        "import itables\n",
        "\n",
        "itables.init_notebook_mode(connected=True)"
      ],
      "outputs": [],
      "execution_count": null
    },
    {
      "cell_type": "markdown",
      "id": "115e771cc1456e16",
      "metadata": {},
      "source": [
        "## Downloading the MACCROBAT Corpus\n",
        "The **MACCROBAT** corpus is a collection of **200 annotated medical documents**, specifically **clinical case reports**, extracted from **PubMed Central**.\n",
        "The annotations focus on key medical concepts such as **diseases, treatments, medications, and symptoms**, making it a valuable resource for biomedical text analysis.\n",
        "\n",
        "The **MACCROBAT** corpus is available for download at [Figshare](https://figshare.com/articles/dataset/MACCROBAT2018/9764942) or on [kaggle](https://www.kaggle.com/datasets/okolojeremiah/maccrobat).\n",
        "\n",
        "Let's download the corpora."
      ]
    },
    {
      "cell_type": "code",
      "id": "9bb17adb4e73b73",
      "metadata": {
        "tags": [
          "remove-output"
        ]
      },
      "source": [
        "import urllib.request\n",
        "\n",
        "urllib.request.urlretrieve(\n",
        "    'https://www.kaggle.com/api/v1/datasets/download/okolojeremiah/maccrobat',\n",
        "    filename='MACCROBAT.zip',\n",
        ")"
      ],
      "outputs": [],
      "execution_count": null
    },
    {
      "cell_type": "markdown",
      "id": "f53f334f1db883be",
      "metadata": {},
      "source": [
        "## Installing and Configuring NLP Models\n",
        "\n",
        "ArchiTXT can parse the sentences using either **Benepar** with SpaCy or a **CoreNLP** server.\n",
        "In this tutorial, we will use the **SpaCy parser** with the default model, but you can use any models like one from **SciSpaCy**, a collection of models designed for biomedical text processing by **AllenAI**.\n",
        "\n",
        "To download the SciSpaCy model, do:"
      ]
    },
    {
      "cell_type": "code",
      "id": "f3f45627cd6a6589",
      "metadata": {
        "tags": [
          "remove-output"
        ]
      },
      "source": [
        "!spacy download en_core_web_sm"
      ],
      "outputs": [],
      "execution_count": null
    },
    {
      "cell_type": "markdown",
      "id": "34644a1af9adac4d",
      "metadata": {},
      "source": "We also need to download the Benepar model for English"
    },
    {
      "cell_type": "code",
      "id": "97d57983410cd61",
      "metadata": {
        "tags": [
          "remove-output"
        ]
      },
      "source": [
        "import benepar\n",
        "\n",
        "benepar.download('benepar_en3')"
      ],
      "outputs": [],
      "execution_count": null
    },
    {
      "cell_type": "markdown",
      "id": "964d0fa93b704e92",
      "metadata": {},
      "source": [
        "## Parsing the Corpus with ArchiTXT\n",
        "\n",
        "Before processing the corpus, we need to configure the **BeneparParser**, specifying which SpaCy model to use for each language."
      ]
    },
    {
      "cell_type": "code",
      "id": "e14ee4fbe193af94",
      "metadata": {
        "tags": [
          "remove-output"
        ]
      },
      "source": [
        "import warnings\n",
        "\n",
        "from architxt.nlp.parser.benepar import BeneparParser\n",
        "\n",
        "# Initialize the parser\n",
        "parser = BeneparParser(\n",
        "    spacy_models={\n",
        "        'English': 'en_core_web_sm',\n",
        "    }\n",
        ")\n",
        "\n",
        "# Suppress warnings for unsupported annotations\n",
        "warnings.filterwarnings(\"ignore\")"
      ],
      "outputs": [],
      "execution_count": null
    },
    {
      "cell_type": "markdown",
      "id": "d5e84953743102d3",
      "metadata": {},
      "source": [
        "Named Entity Resolution (NER) helps to standardize the named entities and to build a database instance.\n",
        "To enable NER, we need to provide the knowledge base to use.\n",
        "For this tutorial, we will use the **UMLS (Unified Medical Language System)** resolver."
      ]
    },
    {
      "metadata": {},
      "cell_type": "code",
      "source": [
        "from architxt.nlp.entity_extractor import FlairEntityExtractor\n",
        "from architxt.nlp.entity_resolver import ScispacyResolver\n",
        "\n",
        "resolver = ScispacyResolver(kb_name='umls')\n",
        "extractor = FlairEntityExtractor()"
      ],
      "id": "84ae59b7c701bd8b",
      "outputs": [],
      "execution_count": null
    },
    {
      "metadata": {},
      "cell_type": "markdown",
      "source": "Let's parse a sample of the corpus. To verify that everything is functioning as expected, we will inspect the largest enriched tree using the :py:meth:`~architxt.tree.Tree.pretty_print` method.",
      "id": "1949d2aabb49f8ec"
    },
    {
      "cell_type": "code",
      "id": "ef884dce458d5827",
      "metadata": {},
      "source": [
        "from architxt.nlp import raw_load_corpus\n",
        "\n",
        "forest = [\n",
        "    tree\n",
        "    async for tree in raw_load_corpus(\n",
        "        ['MACCROBAT.zip'],\n",
        "        ['English'],\n",
        "        cache=False,\n",
        "        parser=parser,\n",
        "        resolver=resolver,\n",
        "        extractor=extractor,\n",
        "        sample=600,\n",
        "        entities_filter={\n",
        "            'OTHER_ENTITY',\n",
        "            'OTHER_EVENT',\n",
        "            'COREFERENCE',\n",
        "        },\n",
        "        entities_mapping={\n",
        "            'QUANTITATIVE_CONCEPT': 'VALUE',\n",
        "            'QUALITATIVE_CONCEPT': 'VALUE',\n",
        "            'LAB_VALUE': 'VALUE',\n",
        "            'THERAPEUTIC_PROCEDURE': 'TREATMENT',\n",
        "            'MEDICATION': 'TREATMENT',\n",
        "            'OUTCOME': 'SIGN_SYMPTOM',\n",
        "        },\n",
        "    )\n",
        "]"
      ],
      "outputs": [],
      "execution_count": null
    },
    {
      "cell_type": "code",
      "id": "dbfaa571691d3cbf",
      "metadata": {},
      "source": [
        "# Look at the highest tree\n",
        "max(forest, key=lambda tree: tree.height).pretty_print()"
      ],
      "outputs": [],
      "execution_count": null
    },
    {
      "cell_type": "markdown",
      "id": "3ef1c824feb8ad9f",
      "metadata": {},
      "source": "Let's see the repartition of the entities inside this sample"
    },
    {
      "cell_type": "code",
      "id": "e86bd818bf4db4ab",
      "metadata": {
        "tags": [
          "hide-input"
        ]
      },
      "source": [
        "from collections import Counter\n",
        "\n",
        "import plotly.express as px\n",
        "\n",
        "entity_count = Counter(entity.label.name for tree in forest for entity in tree.entities())\n",
        "\n",
        "sorted_entities = sorted(entity_count.items(), key=lambda x: x[1], reverse=True)\n",
        "entities = [label for label, count in sorted_entities]\n",
        "counts = [count for label, count in sorted_entities]\n",
        "\n",
        "fig = px.histogram(y=entities, x=counts, orientation='h')\n",
        "fig.update_layout(xaxis_title='Count', yaxis_title='Entities')\n",
        "fig.show()"
      ],
      "outputs": [],
      "execution_count": null
    },
    {
      "cell_type": "markdown",
      "id": "1ca7e8642db92b0d",
      "metadata": {
        "tags": [
          "hide-input"
        ]
      },
      "source": [
        " **ArchiTXT** can then automatically structure parsed text into a **database-friendly format**.\n",
        " Let's start with a simple rewrite!"
      ]
    },
    {
      "cell_type": "code",
      "id": "8bb39d9e2581dd0c",
      "metadata": {
        "tags": [
          "remove-output"
        ]
      },
      "source": [
        "from copy import deepcopy\n",
        "\n",
        "from architxt.simplification.simple_rewrite import simple_rewrite\n",
        "\n",
        "forest_copy = deepcopy(forest)\n",
        "simple_rewrite(forest_copy)"
      ],
      "outputs": [],
      "execution_count": null
    },
    {
      "cell_type": "code",
      "id": "9f27bab9088de6ec",
      "metadata": {},
      "source": [
        "# Look at the highest tree\n",
        "max(forest_copy, key=lambda tree: tree.height).pretty_print()"
      ],
      "outputs": [],
      "execution_count": null
    },
    {
      "cell_type": "markdown",
      "id": "2097e213eedb2081",
      "metadata": {},
      "source": [
        "Now that we have a structured instance, we can extract its schema.\n",
        "The schema provides a **formal representation** of the extracted data."
      ]
    },
    {
      "cell_type": "code",
      "id": "d002e40e0ab4287d",
      "metadata": {
        "tags": [
          "output_scroll"
        ]
      },
      "source": [
        "from architxt.schema import Schema\n",
        "\n",
        "schema = Schema.from_forest(forest_copy, keep_unlabelled=False)\n",
        "print(schema.as_cfg())"
      ],
      "outputs": [],
      "execution_count": null
    },
    {
      "cell_type": "markdown",
      "id": "2ba1cc1cae9bcbf7",
      "metadata": {},
      "source": [
        "We've successfully built a basic database schema from our corpus, but there's significant potential for improvement.\n",
        "Let's explore how we can enhance it using the **ArchiTXT** simplification algorithm!\n",
        "\n",
        "First, let's visualize the repartition of equivalent classes inside the forest."
      ]
    },
    {
      "cell_type": "code",
      "id": "6166f54def9a8a25",
      "metadata": {
        "tags": [
          "remove-output"
        ]
      },
      "source": [
        "from architxt.similarity import equiv_cluster\n",
        "\n",
        "clusters = equiv_cluster(forest, tau=0.95)"
      ],
      "outputs": [],
      "execution_count": null
    },
    {
      "cell_type": "markdown",
      "id": "8f21b2d745d39887",
      "metadata": {},
      "source": "Let's visualize the clustering result as a bar chart to better understand the distribution of groups across equivalent classes.\n"
    },
    {
      "cell_type": "code",
      "id": "db15c35ab26f3b73",
      "metadata": {
        "tags": [
          "hide-input"
        ]
      },
      "source": [
        "clusters_names = sorted(filter(lambda klass: len(clusters[klass]) >= 5, clusters.keys()))\n",
        "fig = px.bar(y=clusters_names, x=[len(clusters[klass]) for klass in clusters_names], orientation='h')\n",
        "\n",
        "fig.update_layout(xaxis_title='Count', yaxis_title='Equivalent Class')\n",
        "fig.show()"
      ],
      "outputs": [],
      "execution_count": null
    },
    {
      "cell_type": "markdown",
      "id": "54bb0f1c2802fb9d",
      "metadata": {},
      "source": "It's now time to use **ArchiTXT** to automatically structure the data."
    },
    {
      "cell_type": "code",
      "id": "7e5b436328f9666",
      "metadata": {
        "tags": [
          "remove-output"
        ]
      },
      "source": [
        "from architxt.simplification.tree_rewriting import rewrite\n",
        "\n",
        "rewrite(forest, epoch=30, min_support=5, tau=0.95)"
      ],
      "outputs": [],
      "execution_count": null
    },
    {
      "cell_type": "code",
      "id": "b3ef575ac4f4690d",
      "metadata": {},
      "source": [
        "# Look at the highest tree\n",
        "max(forest, key=lambda tree: tree.height).pretty_print()"
      ],
      "outputs": [],
      "execution_count": null
    },
    {
      "cell_type": "markdown",
      "id": "4416adaa8b722e2f",
      "metadata": {},
      "source": "We now have a more granular structure. Let's take a closer look at the schema."
    },
    {
      "cell_type": "code",
      "id": "d5a443ba85dbeb0",
      "metadata": {},
      "source": [
        "schema = Schema.from_forest(forest, keep_unlabelled=False)\n",
        "print(schema.as_cfg())"
      ],
      "outputs": [],
      "execution_count": null
    },
    {
      "cell_type": "markdown",
      "id": "b87a797643c215d8",
      "metadata": {},
      "source": [
        "The schema is now much smaller, and the groups are more meaningful.\n",
        "\n",
        "But not all extracted trees provide valuable insights, so we could filter the structured instance to keep only the **valid trees** using `schema.extract_valid_trees(new_forest)`.\n",
        "Let's explore the different **semantic groups**.\n",
        "Groups represent common patterns across the corpus."
      ]
    },
    {
      "cell_type": "code",
      "id": "346834e4b5c95a41",
      "metadata": {},
      "source": [
        "all_datasets = schema.extract_datasets(forest)\n",
        "group, dataset = max(all_datasets.items(), key=lambda x: len(x[1]))\n",
        "\n",
        "print(f'Group: {group}')\n",
        "\n",
        "dataset"
      ],
      "outputs": [],
      "execution_count": null
    },
    {
      "cell_type": "markdown",
      "id": "8c076b174be4dc2d",
      "metadata": {},
      "source": [
        "## Export as a property graph\n",
        "\n",
        "Now that we've integrated our two databases, we can export the result as a **property graph**."
      ]
    },
    {
      "cell_type": "markdown",
      "id": "3a72e90ccfcc3d6e",
      "metadata": {
        "tags": [
          "remove-cell"
        ]
      },
      "source": "We use `testcontainers` to spin up a **disposable Neo4j instance** for safe experimentation."
    },
    {
      "cell_type": "code",
      "id": "44eebfa480a89aa5",
      "metadata": {
        "tags": [
          "remove-cell"
        ]
      },
      "source": [
        "from testcontainers.neo4j import Neo4jContainer\n",
        "\n",
        "neo4j = Neo4jContainer('neo4j:5')\n",
        "neo4j.start()\n",
        "uri = neo4j.get_connection_url()"
      ],
      "outputs": [],
      "execution_count": null
    },
    {
      "cell_type": "markdown",
      "id": "376e64f4006449b7",
      "metadata": {},
      "source": "ArchiTXT makes it easy to export structured data like a tree or forest directly into a property graph."
    },
    {
      "cell_type": "code",
      "id": "ad3328fb96bea276",
      "metadata": {
        "tags": [
          "remove-output"
        ]
      },
      "source": [
        "from architxt.database.export import export_cypher\n",
        "from neo4j import GraphDatabase\n",
        "\n",
        "driver = GraphDatabase.driver(uri, auth=('neo4j', 'password'))\n",
        "\n",
        "with driver.session() as session:\n",
        "    export_cypher(forest, session=session)"
      ],
      "outputs": [],
      "execution_count": null
    },
    {
      "cell_type": "markdown",
      "id": "935a379830c1c927",
      "metadata": {},
      "source": "Let's explore the generated graph database."
    },
    {
      "cell_type": "code",
      "id": "e56562bceb84fabe",
      "metadata": {},
      "source": [
        "from yfiles_jupyter_graphs_for_neo4j import Neo4jGraphWidget\n",
        "\n",
        "g = Neo4jGraphWidget(driver)\n",
        "g.show_cypher(\"\"\"\n",
        "MATCH (n)\n",
        "OPTIONAL MATCH path = (n)-[*..4]-()\n",
        "RETURN n, path\n",
        "LIMIT 50\n",
        "\"\"\")"
      ],
      "outputs": [],
      "execution_count": null
    }
  ],
  "metadata": {
    "kernelspec": {
      "display_name": "Python 3",
      "language": "python",
      "name": "python3"
    },
    "language_info": {
      "codemirror_mode": {
        "name": "ipython",
        "version": 2
      },
      "file_extension": ".py",
      "mimetype": "text/x-python",
      "name": "python",
      "nbconvert_exporter": "python",
      "pygments_lexer": "ipython2",
      "version": "2.7.6"
    }
  },
  "nbformat": 4,
  "nbformat_minor": 5
}
